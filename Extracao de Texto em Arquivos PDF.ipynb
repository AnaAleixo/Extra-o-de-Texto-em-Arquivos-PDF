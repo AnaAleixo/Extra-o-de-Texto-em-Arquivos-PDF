{
 "cells": [
  {
   "cell_type": "markdown",
   "id": "bed588cf",
   "metadata": {},
   "source": [
    "# <a>Extração de Texto em Arquivos PDF</a>\n",
    "\n"
   ]
  },
  {
   "cell_type": "code",
   "execution_count": null,
   "id": "6437b744",
   "metadata": {},
   "outputs": [],
   "source": [
    "# Se estiver fora do notebook. Instalar também \"notebook\"\n",
    "# !pip install pypdf2 pymupdf tika notebook"
   ]
  },
  {
   "cell_type": "markdown",
   "id": "8e9dc544",
   "metadata": {},
   "source": [
    "## Primeiro vamos com o mais famoso (mas nem sempre o melhor)"
   ]
  },
  {
   "cell_type": "code",
   "execution_count": 1,
   "id": "d618683e",
   "metadata": {},
   "outputs": [],
   "source": [
    "from PyPDF2 import PdfFileReader"
   ]
  },
  {
   "cell_type": "markdown",
   "id": "8b42af2d",
   "metadata": {},
   "source": [
    "## Abrindo arquivo PDF"
   ]
  },
  {
   "cell_type": "code",
   "execution_count": 31,
   "id": "539fed24",
   "metadata": {},
   "outputs": [],
   "source": [
    "arquivo_pdf = open('./data/pdf.pdf', 'rb')"
   ]
  },
  {
   "cell_type": "markdown",
   "id": "8b792d3d",
   "metadata": {},
   "source": [
    "## Leitor do PyPDF"
   ]
  },
  {
   "cell_type": "code",
   "execution_count": 32,
   "id": "bd1f6686",
   "metadata": {},
   "outputs": [],
   "source": [
    "leitor_pdf = PdfFileReader(arquivo_pdf)"
   ]
  },
  {
   "cell_type": "markdown",
   "id": "32f4d8d9",
   "metadata": {},
   "source": [
    "## Testando criptografia"
   ]
  },
  {
   "cell_type": "code",
   "execution_count": 34,
   "id": "b99f4b20",
   "metadata": {},
   "outputs": [
    {
     "data": {
      "text/plain": [
       "False"
      ]
     },
     "execution_count": 34,
     "metadata": {},
     "output_type": "execute_result"
    }
   ],
   "source": [
    "leitor_pdf.getIsEncrypted()"
   ]
  },
  {
   "cell_type": "markdown",
   "id": "a547a40d",
   "metadata": {},
   "source": [
    "## Recuperando os metadados"
   ]
  },
  {
   "cell_type": "code",
   "execution_count": 1,
   "id": "7f407b87",
   "metadata": {},
   "outputs": [
    {
     "ename": "NameError",
     "evalue": "name 'leitor_pdf' is not defined",
     "output_type": "error",
     "traceback": [
      "\u001b[1;31m---------------------------------------------------------------------------\u001b[0m",
      "\u001b[1;31mNameError\u001b[0m                                 Traceback (most recent call last)",
      "\u001b[1;32m~\\AppData\\Local\\Temp\\ipykernel_3480\\1349484843.py\u001b[0m in \u001b[0;36m<module>\u001b[1;34m\u001b[0m\n\u001b[1;32m----> 1\u001b[1;33m \u001b[0mmetadados\u001b[0m \u001b[1;33m=\u001b[0m \u001b[0mleitor_pdf\u001b[0m\u001b[1;33m.\u001b[0m\u001b[0mmetadata\u001b[0m\u001b[1;33m\u001b[0m\u001b[1;33m\u001b[0m\u001b[0m\n\u001b[0m",
      "\u001b[1;31mNameError\u001b[0m: name 'leitor_pdf' is not defined"
     ]
    }
   ],
   "source": [
    "metadados = leitor_pdf.metadata"
   ]
  },
  {
   "cell_type": "code",
   "execution_count": 36,
   "id": "318f697b",
   "metadata": {},
   "outputs": [],
   "source": [
    "metadados.author"
   ]
  },
  {
   "cell_type": "code",
   "execution_count": 37,
   "id": "66569dd9",
   "metadata": {},
   "outputs": [],
   "source": [
    "metadados.creator"
   ]
  },
  {
   "cell_type": "code",
   "execution_count": 38,
   "id": "9c09cb24",
   "metadata": {},
   "outputs": [
    {
     "data": {
      "text/plain": [
       "'PyPDF2'"
      ]
     },
     "execution_count": 38,
     "metadata": {},
     "output_type": "execute_result"
    }
   ],
   "source": [
    "metadados.producer"
   ]
  },
  {
   "cell_type": "code",
   "execution_count": 2,
   "id": "98ee2800",
   "metadata": {},
   "outputs": [
    {
     "ename": "NameError",
     "evalue": "name 'metadados' is not defined",
     "output_type": "error",
     "traceback": [
      "\u001b[1;31m---------------------------------------------------------------------------\u001b[0m",
      "\u001b[1;31mNameError\u001b[0m                                 Traceback (most recent call last)",
      "\u001b[1;32m~\\AppData\\Local\\Temp\\ipykernel_3480\\1870107333.py\u001b[0m in \u001b[0;36m<module>\u001b[1;34m\u001b[0m\n\u001b[1;32m----> 1\u001b[1;33m \u001b[0mmetadados\u001b[0m\u001b[1;33m.\u001b[0m\u001b[0msubject\u001b[0m\u001b[1;33m\u001b[0m\u001b[1;33m\u001b[0m\u001b[0m\n\u001b[0m",
      "\u001b[1;31mNameError\u001b[0m: name 'metadados' is not defined"
     ]
    }
   ],
   "source": [
    "metadados.subject"
   ]
  },
  {
   "cell_type": "code",
   "execution_count": 3,
   "id": "9af5ffa0",
   "metadata": {},
   "outputs": [
    {
     "ename": "NameError",
     "evalue": "name 'metadados' is not defined",
     "output_type": "error",
     "traceback": [
      "\u001b[1;31m---------------------------------------------------------------------------\u001b[0m",
      "\u001b[1;31mNameError\u001b[0m                                 Traceback (most recent call last)",
      "\u001b[1;32m~\\AppData\\Local\\Temp\\ipykernel_3480\\2371497142.py\u001b[0m in \u001b[0;36m<module>\u001b[1;34m\u001b[0m\n\u001b[1;32m----> 1\u001b[1;33m \u001b[0mmetadados\u001b[0m\u001b[1;33m.\u001b[0m\u001b[0mtitle\u001b[0m\u001b[1;33m\u001b[0m\u001b[1;33m\u001b[0m\u001b[0m\n\u001b[0m",
      "\u001b[1;31mNameError\u001b[0m: name 'metadados' is not defined"
     ]
    }
   ],
   "source": [
    "metadados.title"
   ]
  },
  {
   "cell_type": "markdown",
   "id": "77e38bdd",
   "metadata": {},
   "source": [
    "## Buscando número de páginas"
   ]
  },
  {
   "cell_type": "code",
   "execution_count": 41,
   "id": "847a1abd",
   "metadata": {},
   "outputs": [
    {
     "data": {
      "text/plain": [
       "4"
      ]
     },
     "execution_count": 41,
     "metadata": {},
     "output_type": "execute_result"
    }
   ],
   "source": [
    "paginas = leitor_pdf.getNumPages()\n",
    "\n",
    "paginas"
   ]
  },
  {
   "cell_type": "code",
   "execution_count": 42,
   "id": "01367cd2",
   "metadata": {},
   "outputs": [
    {
     "data": {
      "text/plain": [
       "{'/Type': '/Page',\n",
       " '/Parent': {'/Type': '/Pages',\n",
       "  '/Count': 4,\n",
       "  '/Kids': [IndirectObject(3, 0),\n",
       "   IndirectObject(4, 0),\n",
       "   IndirectObject(5, 0),\n",
       "   IndirectObject(6, 0)]},\n",
       " '/Resources': {'/Font': {'/F1': {'/Type': '/Font',\n",
       "    '/Subtype': '/TrueType',\n",
       "    '/Name': '/F1',\n",
       "    '/BaseFont': '/Times#20New#20Roman',\n",
       "    '/Encoding': '/WinAnsiEncoding',\n",
       "    '/FontDescriptor': {'/Type': '/FontDescriptor',\n",
       "     '/FontName': '/Times#20New#20Roman',\n",
       "     '/Flags': 32,\n",
       "     '/ItalicAngle': 0,\n",
       "     '/Ascent': 891,\n",
       "     '/Descent': -216,\n",
       "     '/CapHeight': 693,\n",
       "     '/AvgWidth': 401,\n",
       "     '/MaxWidth': 2614,\n",
       "     '/FontWeight': 400,\n",
       "     '/XHeight': 250,\n",
       "     '/Leading': 42,\n",
       "     '/StemV': 40,\n",
       "     '/FontBBox': [-568, -216, 2046, 693]},\n",
       "    '/FirstChar': 32,\n",
       "    '/LastChar': 57,\n",
       "    '/Widths': [250,\n",
       "     0,\n",
       "     0,\n",
       "     0,\n",
       "     0,\n",
       "     0,\n",
       "     0,\n",
       "     0,\n",
       "     0,\n",
       "     0,\n",
       "     0,\n",
       "     0,\n",
       "     0,\n",
       "     0,\n",
       "     0,\n",
       "     0,\n",
       "     500,\n",
       "     500,\n",
       "     500,\n",
       "     500,\n",
       "     500,\n",
       "     500,\n",
       "     500,\n",
       "     500,\n",
       "     500,\n",
       "     500]},\n",
       "   '/F3': {'/Type': '/Font',\n",
       "    '/Subtype': '/TrueType',\n",
       "    '/Name': '/F3',\n",
       "    '/BaseFont': '/ABCDEE+Calibri',\n",
       "    '/Encoding': '/WinAnsiEncoding',\n",
       "    '/FontDescriptor': {'/Type': '/FontDescriptor',\n",
       "     '/FontName': '/ABCDEE+Calibri',\n",
       "     '/Flags': 32,\n",
       "     '/ItalicAngle': 0,\n",
       "     '/Ascent': 750,\n",
       "     '/Descent': -250,\n",
       "     '/CapHeight': 750,\n",
       "     '/AvgWidth': 521,\n",
       "     '/MaxWidth': 1743,\n",
       "     '/FontWeight': 400,\n",
       "     '/XHeight': 250,\n",
       "     '/StemV': 52,\n",
       "     '/FontBBox': [-503, -250, 1240, 750],\n",
       "     '/FontFile2': {'/Filter': '/FlateDecode', '/Length1': 633348}},\n",
       "    '/FirstChar': 32,\n",
       "    '/LastChar': 250,\n",
       "    '/Widths': [226,\n",
       "     0,\n",
       "     0,\n",
       "     0,\n",
       "     0,\n",
       "     0,\n",
       "     0,\n",
       "     0,\n",
       "     303,\n",
       "     303,\n",
       "     0,\n",
       "     0,\n",
       "     250,\n",
       "     306,\n",
       "     252,\n",
       "     386,\n",
       "     507,\n",
       "     507,\n",
       "     507,\n",
       "     507,\n",
       "     507,\n",
       "     507,\n",
       "     507,\n",
       "     507,\n",
       "     507,\n",
       "     507,\n",
       "     268,\n",
       "     0,\n",
       "     0,\n",
       "     0,\n",
       "     0,\n",
       "     0,\n",
       "     0,\n",
       "     579,\n",
       "     544,\n",
       "     533,\n",
       "     615,\n",
       "     488,\n",
       "     459,\n",
       "     631,\n",
       "     623,\n",
       "     252,\n",
       "     319,\n",
       "     520,\n",
       "     420,\n",
       "     855,\n",
       "     646,\n",
       "     662,\n",
       "     517,\n",
       "     673,\n",
       "     543,\n",
       "     459,\n",
       "     487,\n",
       "     642,\n",
       "     567,\n",
       "     890,\n",
       "     519,\n",
       "     487,\n",
       "     468,\n",
       "     0,\n",
       "     0,\n",
       "     0,\n",
       "     0,\n",
       "     498,\n",
       "     0,\n",
       "     479,\n",
       "     525,\n",
       "     423,\n",
       "     525,\n",
       "     498,\n",
       "     305,\n",
       "     471,\n",
       "     525,\n",
       "     230,\n",
       "     239,\n",
       "     455,\n",
       "     230,\n",
       "     799,\n",
       "     525,\n",
       "     527,\n",
       "     525,\n",
       "     525,\n",
       "     349,\n",
       "     391,\n",
       "     335,\n",
       "     525,\n",
       "     452,\n",
       "     715,\n",
       "     433,\n",
       "     453,\n",
       "     395,\n",
       "     0,\n",
       "     0,\n",
       "     0,\n",
       "     0,\n",
       "     0,\n",
       "     0,\n",
       "     0,\n",
       "     0,\n",
       "     0,\n",
       "     0,\n",
       "     0,\n",
       "     0,\n",
       "     0,\n",
       "     0,\n",
       "     0,\n",
       "     0,\n",
       "     0,\n",
       "     0,\n",
       "     0,\n",
       "     0,\n",
       "     0,\n",
       "     0,\n",
       "     0,\n",
       "     0,\n",
       "     0,\n",
       "     0,\n",
       "     0,\n",
       "     0,\n",
       "     0,\n",
       "     0,\n",
       "     0,\n",
       "     0,\n",
       "     0,\n",
       "     0,\n",
       "     0,\n",
       "     0,\n",
       "     0,\n",
       "     0,\n",
       "     0,\n",
       "     0,\n",
       "     0,\n",
       "     0,\n",
       "     0,\n",
       "     0,\n",
       "     0,\n",
       "     0,\n",
       "     0,\n",
       "     0,\n",
       "     0,\n",
       "     0,\n",
       "     0,\n",
       "     0,\n",
       "     0,\n",
       "     0,\n",
       "     0,\n",
       "     0,\n",
       "     0,\n",
       "     0,\n",
       "     0,\n",
       "     0,\n",
       "     0,\n",
       "     0,\n",
       "     0,\n",
       "     422,\n",
       "     0,\n",
       "     0,\n",
       "     0,\n",
       "     0,\n",
       "     0,\n",
       "     0,\n",
       "     0,\n",
       "     0,\n",
       "     579,\n",
       "     0,\n",
       "     0,\n",
       "     0,\n",
       "     0,\n",
       "     0,\n",
       "     488,\n",
       "     0,\n",
       "     0,\n",
       "     0,\n",
       "     252,\n",
       "     0,\n",
       "     0,\n",
       "     0,\n",
       "     0,\n",
       "     0,\n",
       "     0,\n",
       "     0,\n",
       "     0,\n",
       "     0,\n",
       "     0,\n",
       "     0,\n",
       "     0,\n",
       "     642,\n",
       "     0,\n",
       "     0,\n",
       "     0,\n",
       "     0,\n",
       "     0,\n",
       "     479,\n",
       "     479,\n",
       "     479,\n",
       "     479,\n",
       "     0,\n",
       "     0,\n",
       "     0,\n",
       "     423,\n",
       "     0,\n",
       "     498,\n",
       "     0,\n",
       "     0,\n",
       "     0,\n",
       "     230,\n",
       "     0,\n",
       "     0,\n",
       "     0,\n",
       "     0,\n",
       "     0,\n",
       "     527,\n",
       "     527,\n",
       "     0,\n",
       "     0,\n",
       "     0,\n",
       "     0,\n",
       "     0,\n",
       "     525]}},\n",
       "  '/ExtGState': {'/GS7': {'/Type': '/ExtGState', '/BM': '/Normal', '/ca': 1},\n",
       "   '/GS8': {'/Type': '/ExtGState', '/BM': '/Normal', '/CA': 1}},\n",
       "  '/ProcSet': ['/PDF', '/Text', '/ImageB', '/ImageC', '/ImageI']},\n",
       " '/MediaBox': [0, 0, 595.32, 841.92],\n",
       " '/Contents': {'/Filter': '/FlateDecode'},\n",
       " '/Group': {'/Type': '/Group', '/S': '/Transparency', '/CS': '/DeviceRGB'},\n",
       " '/Tabs': '/S',\n",
       " '/StructParents': 2}"
      ]
     },
     "execution_count": 42,
     "metadata": {},
     "output_type": "execute_result"
    }
   ],
   "source": [
    "leitor_pdf.pages[2]"
   ]
  },
  {
   "cell_type": "code",
   "execution_count": 43,
   "id": "5d3493b4",
   "metadata": {
    "scrolled": true
   },
   "outputs": [
    {
     "data": {
      "text/plain": [
       "'1\\n \\n \\n \\nG O VERNO  DO  ESTA DODA  PARA Í BA\\n \\nSECRET A RI A DE EST A DO DA A DMI NI STRAÇÃ O\\n \\nSECRET A RI A DE EST A DO DA  SEGURA NÇA  E DA DEF ESA  SOCI A L\\n \\nPOLÍC I A  CI VIL DO ESTA DO  DA PARA Í BA\\n \\n \\nCo mi ssão d o Co ncu r so Pú b li co p ar a a Polí ci a Ci vil  d o Es tado d a Par aíb a\\n \\n \\nEDI T A LNº 10 /202 2/SEAD/SES\\nDS/PC\\n \\nRESULT A DO  PRO VISÓ RIO  DA S PRO VA SO BJETI VA S\\n \\n \\nO Gover no d o Est ad o da Pa raíb a e a Se cre taria d e Est ado d a Ad min ist ração tor n a\\nm\\n \\np úb lico o \\nr esu l tado pr ovi sór i o n\\nas p r ovas ob j eti vas\\n, re feren t e ao  con cu rso pú b lico p ara o p ro vimen to de vagas  \\np ara os cargos ef\\net ivos d e D ele gad o de Po lícia Civil, Escrivão  d e Po lícia Civil, Agen te d e In vest igação , \\nPe rito Of icial Crimin al, Per it o Of icial M éd ico\\n-\\nLegal, Perit o Of icial Od on to\\n-\\nLegal, Pe rit o Of icial Qu ímico\\n-\\nLegal, Té cn ico em Perícia, Pa p ilo scop ist a e Necro tom ist a, n o â\\nmb it o d a Po lícia Civil d o Est ad o d a Paraíba \\n(PCPB).\\n \\n1 DO  RESULT A DO  PRO VISÓRIO  NA S PRO VA S O BJET I VA S, SOMEN T E PARA O S \\nCA RGO S 1 , 2E 3\\n \\n1.1  Result ado p ro visór io n as p rovas ob jet ivas, na segu in t e ord em: cargo/\\náre a\\n, \\nnú mero d e in scrição, \\nn om e d o can d id ato em or d e\\nm alf ab ét ica, not a p ro visór ia n a p ro va ob jet iva d e con h ecimen tos gera is \\n(\\nP\\n1\\n), n ot a pro visór ia n a p ro va \\nob jet iva \\nde conhecimen t os esp ecíf icos (\\nP\\n2\\n)\\n \\ne n ot a p ro visór ia n as p ro vas \\nob jet ivas.\\n \\n1. 1.1 CA RGO  1\\n: \\nA01  \\n\\x03t\\n \\nDELEG A DO  DE POLÍC IA  CI VIL\\n \\n10 0893 55, Aar om Eleoter\\nio V alent im d e San t an a, 6.00, 68.0 0, 74 .00 / 10 037 021, Ab d oral Nogu eir a \\nFe rn and es, 11 .00, 44.0 0, 55 .00 / 1007 592 4, Ab el Carlo s d e So u sa, 13.0 0, 62 .00 , 75 .00 / 1010 201 4, Ab el \\nCast ello Bran co N et o, 6.00 , 52 .00 , 58.0 0 / 10056 233, Ab el Lau rind o de Sou z a, 13 .00\\n, 84 .00 , 97 .00 / \\n10 0607 66, Ab id a Hellen Barro s Pere ira, 4.0 0, 36 .00 , 40 .00 / 100 084 11, Ab igail Pe re ira d e So u sa, 10 .00 , \\n64 .00 , 74 .00 /  10 095 253 , Ab imael Fran cisco Cavalcan t i, 11 .00, 60.0 0, 71 .00 / 100 152 23, Ab isai Soare s de \\nM elo , 10 .00, 66.0 0, 76 .00 /  10 08\\n9522 , Ab ner  Gu imar ae s Net o, 15 .00, 94 .00 , 109 .00 /  10 081 302 , Ab n er \\nTh adeu Confe ssor V ieira, 12 .00 , 48 .00, 60 .00 /  10 1279 16, Ab raao Bruno M or ais Cou ra, 10.0 0, 48 .00 , \\n58 .00 / 100 1248 6, Ab raao de Arr ud a M ou ra, 9.00, 50.0 0, 59.0 0 / 1005 7075 , Ab raao d e Oliveir a\\n \\nArau jo , \\n13 .00 , 72 .00 , 85 .00 /  1012 0032 , Ab raao Nu n es d a Silva, 12 .00 , 58 .00, 70.0 0 / 1010 921 0, Ab rahao  d e \\nM elo Cru z , 9.00, 62.0 0, 71 .00 /  10 064 327 , Ab rahao  Oliveir a d e Figueir edo Cor re ia, 12.0 0, 78 .00, 90 .00 / \\n10 0749 42, Ab rau n ien es Fau st ino de So u sa, 4.0 0\\n, 48 .00 , 52.0 0 /  1012 9656, Acacia d e Lima D in iz , 9.0 0, \\n46 .00 , 55 .00 /  10 0210 62, Acacyara Nu nes V az  d a Cost a, 10 .00, 82 .00 , 92.0 0 /  10 0888 46, Ach illes Cost a \\nRoch a, 8.0 0, 36 .00 , 44 .00  /  10 120 767, Aclecia d a Silva San t os, 10 .00, 42 .00, 52 .00 /  10 0731 40 , \\nAd ah y\\nlton Se rgio d a Silva D ut ra, 7.0 0, 58 .00 , 65 .00  / 100 8628 8, Adail Jose Silva Fe rre ira, 13 .00, 80 .00 , \\n93 .00 / 100 6704 5, Ad ailton  Alisson Mirand a d a Silva, 8.0 0, 52 .00 , 60.0 0 / 10 0033 10, Ad ailt on Bernard o \\nSan t os da Silva, 9.0 0, 46.0 0, 55 .00 /  10 055 271, Ad ailt\\non d e M en ez es Bez er ra, 9.0 0, 70 .00 , 79.00  /  \\n10 0660 00, Ad ailt on So ares V ilela, 6.0 0, 44 .00 , 50 .00  /  10 112 064 , Ad alb erto Arau jo do N ascimento , 4.0 0, \\n54 .00 , 58 .00 /  10 005 845, Ad alb er to d e Sou z a Pinh eir o, 10 .00, 44.0 0, 54 .00 /  10 085 970 , Ad alber to V eiga \\nd e M ou r\\na, 10.0 0, 76 .00 , 86 .00 / 10 126 941 , Ad algisa Rejan e So are s d e Carvalh o, 12 .00 , 56 .00, 68.0 0 / \\n10 0058 65, Ad alia Rach el Gu ed es d a Roch a, 10 .00, 26 .00, 36 .00 / 1012 494 6, Ad almir Silveira d e Andrad e, \\n11 .00 , 64.0 0, 75 .00  /  1002 0167 , Ad alre risson  Fran cisco d a Sil\\nva, 8.0 0, 70.0 0, 78 .00  /  10 056 409 , Ad am \\nKevin  d os San tos M elo, 9.0 0, 52 .00, 61 .00  /  10 124 221, Ad amo Cor deir o Bat ist a, 6.00, 70 .00, 76.00  / \\n10 0542 21, Ad amo Fe lipe Lop es Fer re ira, 13.0 0, 66 .00, 79 .00 / 101 288 23, Ad ao Gom es d a Silva N et o, \\n4.0 0, 44 .00 , 48.0 0 /\\n \\n10105 922, Ad ao V ieira Soa res, 5.00, 48 .00 , 53.0 0 / 10 0201 08, Ad auh eber M aced o \\n'"
      ]
     },
     "execution_count": 43,
     "metadata": {},
     "output_type": "execute_result"
    }
   ],
   "source": [
    "leitor_pdf.pages[0].extract_text()"
   ]
  },
  {
   "cell_type": "markdown",
   "id": "1501e5a9",
   "metadata": {},
   "source": [
    "### Testando outros PDFs"
   ]
  },
  {
   "cell_type": "code",
   "execution_count": 16,
   "id": "a7da9ea2",
   "metadata": {},
   "outputs": [],
   "source": [
    "arquivo_pdf = open('./data/d2l-en-pytorch.pdf', 'rb')"
   ]
  },
  {
   "cell_type": "code",
   "execution_count": 17,
   "id": "5c242196",
   "metadata": {},
   "outputs": [],
   "source": [
    "leitor_pdf = PdfFileReader(arquivo_pdf)"
   ]
  },
  {
   "cell_type": "code",
   "execution_count": 18,
   "id": "31e8e653",
   "metadata": {},
   "outputs": [
    {
     "data": {
      "text/plain": [
       "988"
      ]
     },
     "execution_count": 18,
     "metadata": {},
     "output_type": "execute_result"
    }
   ],
   "source": [
    "leitor_pdf.getNumPages()"
   ]
  },
  {
   "cell_type": "code",
   "execution_count": 19,
   "id": "1c032304",
   "metadata": {},
   "outputs": [],
   "source": [
    "metadados = leitor_pdf.metadata"
   ]
  },
  {
   "cell_type": "code",
   "execution_count": 20,
   "id": "9e80a7d4",
   "metadata": {},
   "outputs": [
    {
     "data": {
      "text/plain": [
       "('Aston Zhang, Zachary C. Lipton, Mu Li, and Alexander J. Smola',\n",
       " 'LaTeX with hyperref package',\n",
       " 'XeTeX 0.99998',\n",
       " None,\n",
       " 'Dive into Deep Learning')"
      ]
     },
     "execution_count": 20,
     "metadata": {},
     "output_type": "execute_result"
    }
   ],
   "source": [
    "metadados.author, metadados.creator, metadados.producer, metadados.subject, metadados.title"
   ]
  },
  {
   "cell_type": "code",
   "execution_count": 21,
   "id": "cd96c2d8",
   "metadata": {},
   "outputs": [
    {
     "data": {
      "text/plain": [
       "' \\x01Ù\\n\\x01Ú\\n\\x01ø\\x01ù\\x01Ù\\n\\x01Ù\\x01Ú \\n\\x01Ú\\n\\n\\n\\x01Ú\\x01ð\\n\\x01Ú\\x01Ú\\n\\x01Ù\\n\\x01Ù\\n\\n\\x01Ù\\n \\n\\x01Ú\\x01Ù\\n\\x01Ú\\x01Ú\\x01Ú \\n \\n\\x01Ù\\x01Ù \\n\\x01Ú\\n\\x01Ù\\n\\x04@\\x04u\\x04F\\n\\n\\x01Ú\\x01Ú \\x01ð\\n\\n\\n\\x01Ù \\n\\x01Ù\\n\\n\\x01Ú\\x01Ú \\n\\n\\n\\n\\n\\n\\n\\n\\n\\x01Ú\\x01Ú\\n\\n \\n\\n\\n\\x01Ú\\n\\n\\x01Ú\\n\\x01Ú \\n\\x01Ú\\n\\x01Ù\\x01ð\\n \\n \\n\\n\\x01Ù\\x01Ú\\n \\n\\x01Ù\\x01Ú\\n\\n \\n\\x01Ù \\n \\x01ø\\n\\n\\x01Ú\\n\\n\\x01ù \\x01ø\\n\\n\\x01Ú\\n\\x01§\\x01¥\\x01¥\\x01©\\n\\x01ù \\n\\x01Ù\\x01Ú \\n\\n\\x04C\\x04?\\n \\x04@\\x04u\\n'"
      ]
     },
     "execution_count": 21,
     "metadata": {},
     "output_type": "execute_result"
    }
   ],
   "source": [
    "leitor_pdf.pages[55].extract_text()"
   ]
  },
  {
   "cell_type": "markdown",
   "id": "19afd448",
   "metadata": {},
   "source": [
    "## PyMuPDF\n",
    "\n",
    "Outra opção muito utilizada ultimamente (tem bom número de colaboradores) é o [PyMuPDF](https://pymupdf.readthedocs.io/en/latest/)"
   ]
  },
  {
   "cell_type": "code",
   "execution_count": 26,
   "id": "7acf2ecd",
   "metadata": {
    "scrolled": true
   },
   "outputs": [
    {
     "name": "stdout",
     "output_type": "stream",
     "text": [
      "12 Computational Performance\n",
      "517\n",
      "12.1 Compilers and Interpreters . . . . . . . . . . . . . . . . . . . . . . . . . . . . . .\n",
      "517\n",
      "12.1.1\n",
      "Symbolic Programming . . . . . . . . . . . . . . . . . . . . . . . . . . . .\n",
      "518\n",
      "12.1.2\n",
      "Hybrid Programming . . . . . . . . . . . . . . . . . . . . . . . . . . . . .\n",
      "519\n",
      "12.1.3\n",
      "Hybridizing the Sequential Class . . . . . . . . . . . . . . . . . . . . . . .\n",
      "520\n",
      "12.2 Asynchronous Computation . . . . . . . . . . . . . . . . . . . . . . . . . . . . . .\n",
      "522\n",
      "12.2.1\n",
      "Asynchrony via Backend\n",
      ". . . . . . . . . . . . . . . . . . . . . . . . . . .\n",
      "523\n",
      "12.2.2\n",
      "Barriers and Blockers . . . . . . . . . . . . . . . . . . . . . . . . . . . . .\n",
      "525\n",
      "12.2.3\n",
      "Improving Computation . . . . . . . . . . . . . . . . . . . . . . . . . . . .\n",
      "525\n",
      "12.3 Automatic Parallelism . . . . . . . . . . . . . . . . . . . . . . . . . . . . . . . . .\n",
      "525\n",
      "12.3.1\n",
      "Parallel Computation on GPUs . . . . . . . . . . . . . . . . . . . . . . . .\n",
      "526\n",
      "12.3.2\n",
      "Parallel Computation and Communication\n",
      ". . . . . . . . . . . . . . . . .\n",
      "527\n",
      "12.4 Hardware . . . . . . . . . . . . . . . . . . . . . . . . . . . . . . . . . . . . . . . .\n",
      "529\n",
      "12.4.1\n",
      "Computers . . . . . . . . . . . . . . . . . . . . . . . . . . . . . . . . . . .\n",
      "530\n",
      "12.4.2\n",
      "Memory\n",
      ". . . . . . . . . . . . . . . . . . . . . . . . . . . . . . . . . . . .\n",
      "531\n",
      "12.4.3\n",
      "Storage . . . . . . . . . . . . . . . . . . . . . . . . . . . . . . . . . . . . .\n",
      "532\n",
      "12.4.4\n",
      "CPUs . . . . . . . . . . . . . . . . . . . . . . . . . . . . . . . . . . . . . .\n",
      "533\n",
      "12.4.5\n",
      "GPUs and other Accelerators . . . . . . . . . . . . . . . . . . . . . . . . .\n",
      "536\n",
      "12.4.6\n",
      "Networks and Buses . . . . . . . . . . . . . . . . . . . . . . . . . . . . . .\n",
      "539\n",
      "12.4.7\n",
      "More Latency Numbers . . . . . . . . . . . . . . . . . . . . . . . . . . . .\n",
      "540\n",
      "12.5 Training on Multiple GPUs . . . . . . . . . . . . . . . . . . . . . . . . . . . . . . .\n",
      "542\n",
      "12.5.1\n",
      "Splitting the Problem . . . . . . . . . . . . . . . . . . . . . . . . . . . . .\n",
      "542\n",
      "12.5.2\n",
      "Data Parallelism . . . . . . . . . . . . . . . . . . . . . . . . . . . . . . . .\n",
      "544\n",
      "12.5.3\n",
      "A Toy Network . . . . . . . . . . . . . . . . . . . . . . . . . . . . . . . . .\n",
      "546\n",
      "12.5.4\n",
      "Data Synchronization . . . . . . . . . . . . . . . . . . . . . . . . . . . . .\n",
      "546\n",
      "12.5.5\n",
      "Distributing Data\n",
      ". . . . . . . . . . . . . . . . . . . . . . . . . . . . . . .\n",
      "547\n",
      "12.5.6\n",
      "Training\n",
      ". . . . . . . . . . . . . . . . . . . . . . . . . . . . . . . . . . . .\n",
      "548\n",
      "12.6 Concise Implementation for Multiple GPUs\n",
      ". . . . . . . . . . . . . . . . . . . . .\n",
      "551\n",
      "12.6.1\n",
      "A Toy Network . . . . . . . . . . . . . . . . . . . . . . . . . . . . . . . . .\n",
      "551\n",
      "12.6.2\n",
      "Network Initialization . . . . . . . . . . . . . . . . . . . . . . . . . . . . .\n",
      "552\n",
      "12.6.3\n",
      "Training\n",
      ". . . . . . . . . . . . . . . . . . . . . . . . . . . . . . . . . . . .\n",
      "552\n",
      "12.7 Parameter Servers . . . . . . . . . . . . . . . . . . . . . . . . . . . . . . . . . . .\n",
      "554\n",
      "12.7.1\n",
      "Data-Parallel Training . . . . . . . . . . . . . . . . . . . . . . . . . . . . .\n",
      "554\n",
      "12.7.2\n",
      "Ring Synchronization . . . . . . . . . . . . . . . . . . . . . . . . . . . . .\n",
      "557\n",
      "12.7.3\n",
      "Multi-Machine Training . . . . . . . . . . . . . . . . . . . . . . . . . . . .\n",
      "559\n",
      "12.7.4\n",
      "Key–Value Stores . . . . . . . . . . . . . . . . . . . . . . . . . . . . . . . .\n",
      "561\n",
      "13 Computer Vision\n",
      "563\n",
      "13.1 Image Augmentation . . . . . . . . . . . . . . . . . . . . . . . . . . . . . . . . . .\n",
      "563\n",
      "13.1.1\n",
      "Common Image Augmentation Methods . . . . . . . . . . . . . . . . . . .\n",
      "564\n",
      "13.1.2\n",
      "Training with Image Augmentation\n",
      ". . . . . . . . . . . . . . . . . . . . .\n",
      "568\n",
      "13.2 Fine-Tuning . . . . . . . . . . . . . . . . . . . . . . . . . . . . . . . . . . . . . . .\n",
      "571\n",
      "13.2.1\n",
      "Steps . . . . . . . . . . . . . . . . . . . . . . . . . . . . . . . . . . . . . .\n",
      "572\n",
      "13.2.2\n",
      "Hot Dog Recognition\n",
      ". . . . . . . . . . . . . . . . . . . . . . . . . . . . .\n",
      "573\n",
      "13.3 Object Detection and Bounding Boxes\n",
      ". . . . . . . . . . . . . . . . . . . . . . . .\n",
      "578\n",
      "13.3.1\n",
      "Bounding Boxes . . . . . . . . . . . . . . . . . . . . . . . . . . . . . . . .\n",
      "579\n",
      "13.4 Anchor Boxes . . . . . . . . . . . . . . . . . . . . . . . . . . . . . . . . . . . . . .\n",
      "581\n",
      "13.4.1\n",
      "Generating Multiple Anchor Boxes . . . . . . . . . . . . . . . . . . . . . .\n",
      "581\n",
      "13.4.2\n",
      "Intersection over Union (IoU) . . . . . . . . . . . . . . . . . . . . . . . . .\n",
      "584\n",
      "13.4.3\n",
      "Labeling Anchor Boxes in Training Data . . . . . . . . . . . . . . . . . . .\n",
      "585\n",
      "13.4.4\n",
      "Predicting Bounding Boxes with Non-Maximum Suppression\n",
      ". . . . . . .\n",
      "590\n",
      "ix\n",
      "\n"
     ]
    }
   ],
   "source": [
    "# Por que fitz?? https://pymupdf.readthedocs.io/en/latest/intro.html#note-on-the-name-fitz\n",
    "import fitz\n",
    "\n",
    "with fitz.open(\"./data/d2l-en-pytorch.pdf\") as doc:\n",
    "    page = doc.load_page(10) \n",
    "\n",
    "    print(page.get_text())"
   ]
  },
  {
   "cell_type": "markdown",
   "id": "0f9a091a",
   "metadata": {},
   "source": [
    "## Last, but not least: tika\n",
    "\n",
    "(tudo bem que é que um \"cheat\", pois ele é feito em java, mas não contem pra ninguém)"
   ]
  },
  {
   "cell_type": "code",
   "execution_count": 27,
   "id": "543a0d7e",
   "metadata": {},
   "outputs": [],
   "source": [
    "from tika import parser"
   ]
  },
  {
   "cell_type": "code",
   "execution_count": 28,
   "id": "1e5bb4ac",
   "metadata": {},
   "outputs": [
    {
     "name": "stderr",
     "output_type": "stream",
     "text": [
      "2022-05-31 21:29:33,856 [MainThread  ] [WARNI]  Failed to see startup log message; retrying...\n"
     ]
    }
   ],
   "source": [
    "pdf_lido = parser.from_file(\"./data/pdf.pdf\")"
   ]
  },
  {
   "cell_type": "code",
   "execution_count": 29,
   "id": "d7c3215b",
   "metadata": {},
   "outputs": [
    {
     "data": {
      "text/plain": [
       "'\\n\\n\\n\\n\\n\\n\\n\\n\\n\\n\\n\\n\\n\\n\\n\\n\\n\\n\\n\\n\\n\\n\\n\\n\\n\\n1 \\n\\n \\n\\n \\nGOVERNO DO ESTADO DA PARAÍBA \\n\\nSECRETARIA DE ESTADO DA ADMINISTRAÇÃO \\nSECRETARIA DE ESTADO DA SEGURANÇA E DA DEFESA SOCIAL \\n\\nPOLÍCIA CIVIL DO ESTADO DA PARAÍBA \\n \\n\\nComissão do Concurso Público para a Polícia Civil do Estado da Paraíba \\n \\n\\nEDITAL Nº 10/2022/SEAD/SESDS/PC \\nRESULTADO PROVISÓRIO DAS PROVAS OBJETIVAS \\n\\n \\nO Governo do Estado da Paraíba e a Secretaria de Estado da Administração tornam público o \\n\\nresultado provisório nas provas objetivas, referente ao concurso público para o provimento de vagas \\npara os cargos efetivos de Delegado de Polícia Civil, Escrivão de Polícia Civil, Agente de Investigação, \\nPerito Oficial Criminal, Perito Oficial Médico-Legal, Perito Oficial Odonto-Legal, Perito Oficial Químico-\\nLegal, Técnico em Perícia, Papiloscopista e Necrotomista, no âmbito da Polícia Civil do Estado da Paraíba \\n(PCPB). \\n1 DO RESULTADO PROVISÓRIO NAS PROVAS OBJETIVAS, SOMENTE PARA OS CARGOS 1, 2 E 3 \\n1.1 Resultado provisório nas provas objetivas, na seguinte ordem: cargo/área, número de inscrição, \\nnome do candidato em ordem alfabética, nota provisória na prova objetiva de conhecimentos gerais \\n(P1), nota provisória na prova objetiva de conhecimentos específicos (P2) e nota provisória nas provas \\nobjetivas. \\n1.1.1 CARGO 1: A01 – DELEGADO DE POLÍCIA CIVIL \\n10089355, Aarom Eleoterio Valentim de Santana, 6.00, 68.00, 74.00 / 10037021, Abdoral Nogueira \\nFernandes, 11.00, 44.00, 55.00 / 10075924, Abel Carlos de Sousa, 13.00, 62.00, 75.00 / 10102014, Abel \\nCastello Branco Neto, 6.00, 52.00, 58.00 / 10056233, Abel Laurindo de Souza, 13.00, 84.00, 97.00 / \\n10060766, Abida Hellen Barros Pereira, 4.00, 36.00, 40.00 / 10008411, Abigail Pereira de Sousa, 10.00, \\n64.00, 74.00 / 10095253, Abimael Francisco Cavalcanti, 11.00, 60.00, 71.00 / 10015223, Abisai Soares de \\nMelo, 10.00, 66.00, 76.00 / 10089522, Abner Guimaraes Neto, 15.00, 94.00, 109.00 / 10081302, Abner \\nThadeu Confessor Vieira, 12.00, 48.00, 60.00 / 10127916, Abraao Bruno Morais Coura, 10.00, 48.00, \\n58.00 / 10012486, Abraao de Arruda Moura, 9.00, 50.00, 59.00 / 10057075, Abraao de Oliveira Araujo, \\n13.00, 72.00, 85.00 / 10120032, Abraao Nunes da Silva, 12.00, 58.00, 70.00 / 10109210, Abrahao de \\nMelo Cruz, 9.00, 62.00, 71.00 / 10064327, Abrahao Oliveira de Figueiredo Correia, 12.00, 78.00, 90.00 / \\n10074942, Abraunienes Faustino de Sousa, 4.00, 48.00, 52.00 / 10129656, Acacia de Lima Diniz, 9.00, \\n46.00, 55.00 / 10021062, Acacyara Nunes Vaz da Costa, 10.00, 82.00, 92.00 / 10088846, Achilles Costa \\nRocha, 8.00, 36.00, 44.00 / 10120767, Aclecia da Silva Santos, 10.00, 42.00, 52.00 / 10073140, \\nAdahylton Sergio da Silva Dutra, 7.00, 58.00, 65.00 / 10086288, Adail Jose Silva Ferreira, 13.00, 80.00, \\n93.00 / 10067045, Adailton Alisson Miranda da Silva, 8.00, 52.00, 60.00 / 10003310, Adailton Bernardo \\nSantos da Silva, 9.00, 46.00, 55.00 / 10055271, Adailton de Menezes Bezerra, 9.00, 70.00, 79.00 / \\n10066000, Adailton Soares Vilela, 6.00, 44.00, 50.00 / 10112064, Adalberto Araujo do Nascimento, 4.00, \\n54.00, 58.00 / 10005845, Adalberto de Souza Pinheiro, 10.00, 44.00, 54.00 / 10085970, Adalberto Veiga \\nde Moura, 10.00, 76.00, 86.00 / 10126941, Adalgisa Rejane Soares de Carvalho, 12.00, 56.00, 68.00 / \\n10005865, Adalia Rachel Guedes da Rocha, 10.00, 26.00, 36.00 / 10124946, Adalmir Silveira de Andrade, \\n11.00, 64.00, 75.00 / 10020167, Adalrerisson Francisco da Silva, 8.00, 70.00, 78.00 / 10056409, Adam \\nKevin dos Santos Melo, 9.00, 52.00, 61.00 / 10124221, Adamo Cordeiro Batista, 6.00, 70.00, 76.00 / \\n10054221, Adamo Felipe Lopes Ferreira, 13.00, 66.00, 79.00 / 10128823, Adao Gomes da Silva Neto, \\n4.00, 44.00, 48.00 / 10105922, Adao Vieira Soares, 5.00, 48.00, 53.00 / 10020108, Adauheber Macedo \\n\\n\\n\\n2 \\n\\n \\n\\nda Silva, 8.00, 90.00, 98.00 / 10011294, Adeangelo de Melo Cruz, 11.00, 92.00, 103.00 / 10125527, \\nAdeilson Bandeira de Souza, 11.00, 68.00, 79.00 / 10043858, Adeilson Pereira Teixeira, 9.00, 66.00, \\n75.00 / 10081617, Adeilton Amado Silva dos Santos, 9.00, 68.00, 77.00 / 10009324, Adeilton Araujo do \\nNascimento, 12.00, 76.00, 88.00 / 10016514, Adeilton Barbosa da Mota, 4.00, 26.00, 30.00 / 10007503, \\nAdeilza Alves de Carvalho, 13.00, 80.00, 93.00 / 10067540, Adelane Danielle de Oliveira Souto, 13.00, \\n62.00, 75.00 / 10076209, Adelcio Cabral Bezerra Junior, 5.00, 40.00, 45.00 / 10043284, Adelcio Pereira \\nda Cunha Filho, 9.00, 50.00, 59.00 / 10120565, Adele Cristina Martins Santos, 6.00, 28.00, 34.00 / \\n10060169, Adelfo Gomes da Silva Neto, 12.00, 80.00, 92.00 / 10031709, Adelia Branco Pereira Neta, \\n13.00, 66.00, 79.00 / 10120015, Adelina Bengtsson Bernardes, 11.00, 54.00, 65.00 / 10041211, Adelmo \\nAgostinho de Aquino, 9.00, 50.00, 59.00 / 10003371, Adelmo Leal Benevides, 16.00, 86.00, 102.00 / \\n10024673, Adelson Pereira da Silva, 10.00, 42.00, 52.00 / 10117323, Adelson Silva do Nascimento, 4.00, \\n40.00, 44.00 / 10079217, Adelvite Lira Sampaio Neto, 8.00, 82.00, 90.00 / 10110238, Ademar Tavares de \\nArruda Neto, 12.00, 48.00, 60.00 / 10049559, Ademario Cavalcanti de Oliveira, 10.00, 62.00, 72.00 / \\n10098836, Ademberg Arleff Alves da Silva, 11.00, 62.00, 73.00 / 10090694, Adenilson da Silva Pontes, \\n10.00, 48.00, 58.00 / 10088097, Aderbaldo Soares de Oliveira Junior, 17.00, 76.00, 93.00 / 10026217, \\nAderluce Barbosa Araujo, 7.00, 46.00, 53.00 / 10086412, Aderson Ribeiro da Silva, 7.00, 42.00, 49.00 / \\n10034147, Aderson Salustiano Aleixo Junior, 3.00, 20.00, 23.00 / 10053242, Adevaldo Francisco dos \\nSantos Junior, 11.00, 52.00, 63.00 / 10131018, Adhabliand Jefferson Ferreira Freitas, 11.00, 42.00, 53.00 \\n/ 10025730, Adhemar Matos de Melo Junior, 4.00, 40.00, 44.00 / 10107175, Adila Carvalho Silva, 13.00, \\n86.00, 99.00 / 10086669, Adila Maria Ramos Moreira, 11.00, 64.00, 75.00 / 10131014, Adila Taynah de \\nAraujo Aguiar, 11.00, 64.00, 75.00 / 10028695, Adila Vanessa Pereira da Silva, 12.00, 78.00, 90.00 / \\n10049063, Adilson Barros Soares, 8.00, 58.00, 66.00 / 10052439, Adilson Cesar Modesto Conserva \\nJunior, 7.00, 32.00, 39.00 / 10024630, Adilson Viana Cavalcante Junior, 8.00, 88.00, 96.00 / 10070010, \\nAdilsula Cavalcante Cardoso, 7.00, 66.00, 73.00 / 10080058, Adilton Lopes Gazineu, 10.00, 86.00, 96.00 / \\n10122520, Adiran de Souza Batista, 10.00, 40.00, 50.00 / 10044839, Adisa Carolina Araujo Nobre Lima, \\n10.00, 96.00, 106.00 / 10069528, Adivomarques Ferreira Alves, 10.00, 56.00, 66.00 / 10042550, \\nAdjailton Alves Ferreira, 7.00, 46.00, 53.00 / 10032659, Adjany Maria Vieira Diniz, 13.00, 38.00, 51.00 / \\n10095577, Adjeferson Pessoa Alves, 12.00, 68.00, 80.00 / 10051612, Adjerson Taveira dos Santos Lira, \\n6.00, 44.00, 50.00 / 10034962, Adlan Jonas de Arantes Silva, 11.00, 64.00, 75.00 / 10111289, Adlei \\nRodrigues Santos, 9.00, 40.00, 49.00 / 10075438, Adlene Barbosa Tosta, 13.00, 52.00, 65.00 / 10067226, \\nAdler Victor Damasceno Silva, 16.00, 94.00, 110.00 / 10058576, Adlineri Saile Nogueira Mariano, 9.00, \\n58.00, 67.00 / 10134036, Admilson de Barros Silva, 8.00, 48.00, 56.00 / 10095289, Admilson Jackson da \\nCosta Melo, 14.00, 78.00, 92.00 / 10008623, Admilson Soares da Silva, 7.00, 46.00, 53.00 / 10087627, \\nAdna Gardenia Hortencio Cavalcante, 6.00, 50.00, 56.00 / 10077067, Adna Tallyla Braga de Franca, \\n11.00, 52.00, 63.00 / 10102287, Adnaiane Aparecida Gomes Florencio, 7.00, 24.00, 31.00 / 10013601, \\nAdolfo Frederico do Nascimento Felix, 10.00, 84.00, 94.00 / 10053530, Adonis de Sousa Marques, 10.00, \\n42.00, 52.00 / 10057234, Adria Oliveira da Silva, 12.00, 82.00, 94.00 / 10006117, Adrian Portella Magaldi \\nCardoso, 0.00, 4.00, 4.00 / 10047903, Adriana Acioli Melo de Vasconcelos, 10.00, 64.00, 74.00 / \\n10020329, Adriana Alves de Souza, 11.00, 54.00, 65.00 / 10098084, Adriana Anjos dos Santos Azevedo, \\n4.00, 32.00, 36.00 / 10018840, Adriana Argolo Vieira, 6.00, 40.00, 46.00 / 10027838, Adriana Arrais \\nMoreira, 8.00, 34.00, 42.00 / 10016818, Adriana Avelina Pessoa da Silva, 10.00, 60.00, 70.00 / \\n10116279, Adriana Bezerra de Oliveira, 9.00, 40.00, 49.00 / 10098572, Adriana Carolina Araujo de Melo, \\n11.00, 76.00, 87.00 / 10079453, Adriana Cavalcante Lucena Tavares de Melo, 3.00, 32.00, 35.00 / \\n10101421, Adriana Costa Resende Pacheco, 8.00, 30.00, 38.00 / 10013104, Adriana Cristina Leite, 10.00, \\n54.00, 64.00 / 10072065, Adriana Cruz Oliveira, 9.00, 40.00, 49.00 / 10126215, Adriana da Silva Guedes, \\n6.00, 42.00, 48.00 / 10079450, Adriana de Fatima Trindade de Mendonca, 14.00, 48.00, 62.00 / \\n10082877, Adriana do Nascimento Lira, 10.00, 46.00, 56.00 / 10003986, Adriana dos Reis dos Santos, \\n5.00, 68.00, 73.00 / 10134457, Adriana Fidelis da Silva Freitas, 10.00, 52.00, 62.00 / 10016060, Adriana \\nJesus dos Santos, 8.00, 54.00, 62.00 / 10094318, Adriana Laurinda da Silva, 11.00, 90.00, 101.00 / \\n\\n\\n\\n3 \\n\\n \\n\\n10014111, Adriana Monteiro Chaves, 8.00, 64.00, 72.00 / 10009326, Adriana Monteiro da Silva, 13.00, \\n90.00, 103.00 / 10094585, Adriana Pereira, 11.00, 94.00, 105.00 / 10117812, Adriana Ribeiro dos Santos, \\n7.00, 30.00, 37.00 / 10103391, Adriana Santos de Moura, 8.00, 44.00, 52.00 / 10099825, Adriana \\nTargino Oliveira, 12.00, 52.00, 64.00 / 10071453, Adriana Trindade da Silva, 9.00, 44.00, 53.00 / \\n10022703, Adriane Alves de Oliveira, 11.00, 84.00, 95.00 / 10027520, Adriane dos Santos Morato, 9.00, \\n60.00, 69.00 / 10108033, Adriane Duarte de Moura Guedes, 4.00, 32.00, 36.00 / 10012260, Adriane \\nIngrid Jacinto Silva, 8.00, 44.00, 52.00 / 10072672, Adriane Louise Paiva, 12.00, 88.00, 100.00 / \\n10033844, Adriane Sena Silva, 11.00, 42.00, 53.00 / 10016667, Adriano Alessandro Monteiro da Silva, \\n7.00, 50.00, 57.00 / 10022780, Adriano Alves Barbosa, 4.00, 28.00, 32.00 / 10017240, Adriano Alves \\nBrigido, 15.00, 92.00, 107.00 / 10057160, Adriano Alves Dantas, 8.00, 38.00, 46.00 / 10057454, Adriano \\nApolinario Ananias, 6.00, 44.00, 50.00 / 10027817, Adriano Araujo de Melo Morais, 13.00, 90.00, 103.00 \\n/ 10010758, Adriano Arlindo Martins, 5.00, 46.00, 51.00 / 10004450, Adriano Arthur Nobre Valle, 13.00, \\n70.00, 83.00 / 10094973, Adriano Augusto Figueiredo Fernandes, 14.00, 58.00, 72.00 / 10022736, \\nAdriano Ayan Dias de Oliveira Carvalho, 12.00, 78.00, 90.00 / 10079584, Adriano Barros Batista, 12.00, \\n50.00, 62.00 / 10063748, Adriano Batista Bezerra, 15.00, 76.00, 91.00 / 10040106, Adriano Carvalho \\nGuerreiro, 9.00, 86.00, 95.00 / 10038892, Adriano Cesar de Oliveira Pinto, 13.00, 100.00, 113.00 / \\n10059045, Adriano Cesar Ferreira de Andrade, 9.00, 76.00, 85.00 / 10117080, Adriano Cesar Maciel \\nMenesello, 7.00, 56.00, 63.00 / 10093624, Adriano Cezar Fernandes Reis, 6.00, 40.00, 46.00 / 10043696, \\nAdriano Cruz da Silva, 10.00, 38.00, 48.00 / 10064935, Adriano Damiao de Oliveira Santos, 13.00, 62.00, \\n75.00 / 10006622, Adriano David Mota Barros, 8.00, 44.00, 52.00 / 10126389, Adriano de Santana Alves, \\n12.00, 48.00, 60.00 / 10094594, Adriano do Vale Reis, 9.00, 68.00, 77.00 / 10057702, Adriano dos Santos \\nRabelo, 15.00, 88.00, 103.00 / 10057063, Adriano Fernandes, 10.00, 96.00, 106.00 / 10002137, Adriano \\nFerreira da Silva, 7.00, 56.00, 63.00 / 10019281, Adriano Figueiredo Correia, 14.00, 90.00, 104.00 / \\n10122658, Adriano Galvao Pinto da Silva, 8.00, 38.00, 46.00 / 10061602, Adriano Godoi de Lara, 10.00, \\n86.00, 96.00 / 10044618, Adriano Jose Sousa Santos, 9.00, 54.00, 63.00 / 10003218, Adriano Martins \\nPereira, 12.00, 86.00, 98.00 / 10052713, Adriano Medeiros Mascarenhas Filho, 11.00, 96.00, 107.00 / \\n10087297, Adriano Roberto Botas Henriques, 15.00, 62.00, 77.00 / 10084738, Adriano Santos \\nGuimaraes, 5.00, 54.00, 59.00 / 10123467, Adriano Sobral de Azevedo, 7.00, 48.00, 55.00 / 10006411, \\nAdriano Tabosa Martins Veras, 8.00, 86.00, 94.00 / 10003441, Adriano Xavier de Oliveira, 12.00, 88.00, \\n100.00 / 10080202, Adriany Gadelha Rocha, 5.00, 30.00, 35.00 / 10025570, Adricio dos Santos Viana, \\n11.00, 70.00, 81.00 / 10038752, Adriel de Oliveira Juliao, 6.00, 68.00, 74.00 / 10084836, Adriele Ferreira \\nRodrigues, 7.00, 66.00, 73.00 / 10080117, Adrielle Barradas Cardoso, 11.00, 56.00, 67.00 / 10022012, \\nAdrielly Kaline Veloso do Nascimento, 7.00, 70.00, 77.00 / 10063373, Adriely Aline Goncalves e Sousa, \\n13.00, 58.00, 71.00 / 10108098, Adrien Caroline Silva Lima, 6.00, 36.00, 42.00 / 10015197, Adrienny \\nAlves Soares de Gois, 6.00, 38.00, 44.00 / 10032175, Adrio Marcio Marques de Melo, 7.00, 70.00, 77.00 \\n/ 10028167, Adrissia Vieira Cavalcante, 14.00, 92.00, 106.00 / 10015543, Adryan Patricia Amorim da \\nSilva, 10.00, 72.00, 82.00 / 10004734, Adryanne Vanessa Farias de Lima Silva, 8.00, 56.00, 64.00 / \\n10009617, Adryele Santos Araujo, 7.00, 34.00, 41.00 / 10117224, Adryelle Lins de Oliveira, 10.00, 42.00, \\n52.00 / 10003159, Adson da Silva Andrade Filho, 14.00, 94.00, 108.00 / 10075093, Adson Lopes Perazzo \\nMaia, 10.00, 90.00, 100.00 / 10086664, Adson Medeiros Aroxa Pereira, 12.00, 90.00, 102.00 / 10064299, \\nAdson Rogerio Barros de Souza, 3.00, 80.00, 83.00 / 10098922, Advania Guedes da Costa Linhares, \\n11.00, 36.00, 47.00 / 10050155, Adysson Aguiar de Siqueira, 13.00, 80.00, 93.00 / 10002862, Afonso \\nAragao Souza, 12.00, 78.00, 90.00 / 10130741, Afonso de Oliveira Lira Neto, 13.00, 48.00, 61.00 / \\n10123841, Afonso Miguel Pereira de Araujo, 14.00, 92.00, 106.00 / 10037427, Afra Rayssa Andrade da \\nSilva Honorio, 10.00, 82.00, 92.00 / 10108158, Afranio Sousa da Silva, 8.00, 32.00, 40.00 / 10033141, \\nAgapito Rodrigues dos Santos Neto, 9.00, 62.00, 71.00 / 10044780, Agatha Christie de Medeiros Dantas, \\n10.00, 62.00, 72.00 / 10044147, Agatha Macambira Monte de Lima, 13.00, 82.00, 95.00 / 10025561, \\nAgatha Ribeiro Viana, 10.00, 66.00, 76.00 / 10055870, Agda Carolina da Silva Assis, 5.00, 46.00, 51.00 / \\n10023463, Aghny Filgueira Moura, 11.00, 52.00, 63.00 / 10125278, Agnes dos Santos Camara, 11.00, \\n\\n\\n\\n4 \\n\\n \\n\\n52.00, 63.00 / 10029691, Agnes Puppe Cavalcanti, 14.00, 90.00, 104.00 / 10097031, Agripino Mendes de \\nFreitas, 11.00, 50.00, 61.00 / 10028149, Agueda Izidora Cota Cunha, 9.00, 72.00, 81.00 / 10104200, \\nAguida Landim de Sousa, 3.00, 36.00, 39.00 / 10055849, Aguida Larissa Medeiros Carlos, 10.00, 84.00, \\n94.00 / 10070000, Aguinaldo Amaro da Silva Junior, 9.00, 46.00, 55.00 / 10057473, Aiane Jussara \\nNogueira de Lima, 5.00, 40.00, 45.00 / 10090309, Aiany Regia Ferreira da Silva, 7.00, 54.00, 61.00 / \\n10096992, Aida Carolina Silvestre Teixeira, 11.00, 64.00, 75.00 / 10074519, Ailson Jose Silva, 10.00, \\n94.00, 104.00 / 10083287, Ailtemberg Gominho de Sa Soares, 6.00, 48.00, 54.00 / 10072286, Ailton \\nBarbosa de Sousa Oliveira, 13.00, 42.00, 55.00 / 10038569, Ailton Leandro Martins da Silva, 15.00, \\n44.00, 59.00 / 10011834, Ailton Paulino da Silva, 12.00, 96.00, 108.00 / 10088636, Ailton Rodrigues dos \\nReis, 6.00, 36.00, 42.00 / 10065685, Ailton Sena Padilha, 16.00, 64.00, 80.00 / 10002175, Ailton Silva \\nAmorim, 7.00, 70.00, 77.00 / 10117488, Airon Antonio da Silva Santos, 12.00, 64.00, 76.00 / 10104002, \\nAirton Batista Costa Braz, 11.00, 58.00, 69.00 / 10008947, Aisa Ribeiro Harrisson Vieira, 9.00, 64.00, \\n73.00 / 10077027, Aislan Rogerio Climaco de Araujo, 14.00, 78.00, 92.00 / 10024115, Aizamack \\nNascimento da Silva, 9.00, 70.00, 79.00 / 10023143, Aksa Dascalakis Fernandes, 9.00, 74.00, 83.00 / \\n10119849, Alaide Emilia de Souza Fonseca, 6.00, 42.00, 48.00 / 10035262, Alaine Rocha da Silva, 9.00, \\n86.00, 95.00 / 10002535, Alamberg Medeiros Miranda, 13.00, 84.00, 97.00 / 10042602, Alamo Tiago \\nVieira Costa, 14.00, 88.00, 102.00 / 10010805, Alan Araujo Furtado, 9.00, 70.00, 79.00 / 10000193, Alan \\nBezerra Matos, 10.00, 52.00, 62.00 / 10066166, Alan Carvalho Cerqueira, 10.00, 44.00, 54.00 / \\n10040825, Alan Costa Gomes Barbosa, 11.00, 42.00, 53.00 / 10104141, Alan da Costa Nogueira, 7.00, \\n68.00, 75.00 / 10088249, Alan Decusati Lourenze, 9.00, 56.00, 65.00 / 10051510, Alan Dilessandro \\nOliveira de Souza, 14.00, 62.00, 76.00 / 10060273, Alan Fernandes Penha, 8.00, 54.00, 62.00 / \\n10019955, Alan Franklin Rossiter Pinheiro, 11.00, 88.00, 99.00 / 10098612, Alan Glauber Goncalves de \\nOliveira, 15.00, 58.00, 73.00 / 10058378, Alan Gomes do Carmo, 15.00, 68.00, 83.00 / 10104240, Alan \\nHenrique Alves de Almeida Filho, 15.00, 62.00, 77.00 / 10083123, Alan Karlos Batista Pereira, 10.00, \\n72.00, 82.00 / 10020182, Alan Kiszewski Melo, 11.00, 96.00, 107.00 / 10083971, Alan Leite de Sousa, \\n9.00, 50.00, 59.00 / 10096903, Alan Matos Cruz, 10.00, 80.00, 90.00 / 10033809, Alan Nobrega de Lima, \\n11.00, 48.00, 59.00 / 10078729, Alan Patrick Feddersen, 15.00, 76.00, 91.00 / 10122033, Alan Rodrigues \\nde Albuquerque, 10.00, 46.00, 56.00 / 10033109, Alan Santiago Leao de Sales, 8.00, 32.00, 40.00 / \\n10027581, Alan Sergio Simoes Costa, 9.00, 80.00, 89.00 / 10061573, Alan Sommerfeldt da Silva, 8.00, \\n72.00, 80.00 / 10072612, Alan Victor Martiniano da Silva, 13.00, 90.00, 103.00 / 10104437, Alan Wilker \\nMartins do Couto, 12.00, 68.00, 80.00 / 10089724, Alana Brito da Silva, 7.00, 32.00, 39.00 / 10080416, \\nAlana Camila Sousa Medeiros, 9.00, 66.00, 75.00 / 10004465, Alana Cristina Lacerda Lopes, 12.00, 94.00, \\n106.00 / 10098945, Alana Locatelli Lazzari, 12.00, 38.00, 50.00 / 10017949, Alana Maria Ferreira \\nAlencar, 17.00, 86.00, 103.00 / 10133188, Alana Patricia da Silva Almeida, 7.00, 52.00, 59.00 / \\n10092839, Alana Pereira Marques, 3.00, 62.00, 65.00 / 10094273, Alana Rebeca da Silva Egito Alves, \\n11.00, 38.00, 49.00 / 10106449, Alana Ribeiro Benicio, 9.00, 72.00, 81.00 / 10004027, Alana Santiago de \\nFreitas, 11.00, 74.00, 85.00 / 10021691, Alana Sfredo, 8.00, 64.00, 72.00 / 10062768, Alanda Kersia \\nSantos da Cunha, 10.00, 78.00, 88.00 / 10061603, Alanda Luiza Silva Soares, 10.00, 56.00, 66.00 / \\n10080272, Alanderson Cintra de Santana, 14.00, 94.00, 108.00 / 10101962, Alane Anathyene de Sa \\nMatias, 9.00, 94.00, 103.00 / 10109532, Alane Cassiano da Paixao, 7.00, 32.00, 39.00 / 10022849, \\nAlanna Raquel Ferreira Simoes, 8.00, 70.00, 78.00 / 10017812, Alanna Tassiane Alves Pissinati, 12.00, \\n68.00, 80.00 / 10115709, Alanne Ximenes Coelho, 5.00, 32.00, 37.00 / 10040027, Alano de Morais \\nCorreia, 10.00, 86.00, 96.00 / 10081490, Alano Gradin da Silva, 12.00, 94.00, 106.00 / 10083513, Alayne \\nCoelho Silva, 9.00, 48.00, 57.00 / 10052201, Alba Lesley de Azevedo Freitas, 12.00, 40.00, 52.00 / \\n10021556, Albenes Cordeiro de Farias, 14.00, 80.00, 94.00 / 10020062, Albergio Fabricio da Silva, 10.00, \\n66.00, 76.00 / 10107308, Alberico Augusto Ferreira, 5.00, 26.00, 31.00 / 10007132, Alberico Vicente dos \\nSantos, 8.00, 46.00, 54.00 / 10134238, Alberto Affonso Ferreira, 4.00, 50.00, 54.00 / 10067765, Alberto \\nAnderson Romao dos Santos, 13.00, 76.00, 89.00 / 10091635, Alberto Bananeira Costa, 11.00, 64.00, \\n75.00 / 10023222, Alberto da Silva Brito, 5.00, 42.00, 47.00 / 10076599, Alberto de Barros Rodrigues \\n\\n\\n'"
      ]
     },
     "execution_count": 29,
     "metadata": {},
     "output_type": "execute_result"
    }
   ],
   "source": [
    "texto = pdf_lido['content'] \n",
    "\n",
    "texto\n",
    "\n",
    "# ninguém olha pra esse .jar aí não, finge que não existe"
   ]
  },
  {
   "cell_type": "code",
   "execution_count": 44,
   "id": "234fc7b4",
   "metadata": {},
   "outputs": [
    {
     "data": {
      "text/plain": [
       "'\\n\\n\\n\\n\\n\\n\\n\\n\\n\\n\\n\\n\\n\\n\\n\\n\\n\\n\\n\\n\\n\\n\\n\\n\\n\\n\\n\\n\\n\\n\\n\\n\\n\\n\\n\\n\\nUntitled\\n\\n\\n3 \\n\\n \\n\\n2 Quantifying Fuel-Saving Opportunities from Specific Driving \\nBehavior Changes \\n\\n2.1 Savings from Improving Individual Driving Profiles \\n\\n2.1.1 Drive Profile Subsample from Real-World Travel Survey \\n\\nThe interim report (Gonder et al. 2010) included results from detailed analyses on five cycles \\n\\nselected from a large set of real-world global positioning system (GPS) travel data collected in \\n\\n2006 as part of a study by the Texas Transportation Institute and the Texas Department of \\n\\nTransportation (Ojah and Pearson 2008). The cycles were selected to reflect a range of kinetic \\n\\nintensity (KI) values. (KI represents a ratio of characteristic acceleration to aerodynamic speed \\n\\nand has been shown to be a useful drive cycle classification parameter [O’Keefe et al. 2007].)  \\n\\nTo determine the maximum possible cycle improvement fuel savings, the real-world cycles were \\n\\nconverted into equivalent “ideal” cycles using the following steps:  \\n\\n1. Calculate the trip distance of each sample trip. \\n\\n2. Eliminate stop-and-go and idling within each trip.  \\n\\n3. Set the acceleration rate to 3 mph/s.  \\n\\n4. Set the cruising speed to 40 mph. \\n\\n5. Continue cruising at 40 mph until the trip distance is reached. \\n\\nTo compare vehicle simulations over each real-world cycle and its corresponding ideal cycle, a \\n\\nmidsize conventional vehicle model from a previous NREL study was used (Earleywine et al. \\n\\n2010). The results indicated a fuel savings potential of roughly 60% for the drive profiles with \\n\\neither very high or very low KI and of 30%–40% for the cycles with moderate KI values.  \\n\\nTable 2-1 takes the analysis of these five cycles from the interim report a step further by \\n\\nexamining the impact of the optimization steps one at a time in isolation. As indicated by other \\n\\nsimulations from the interim report (Gonder et al. 2010), acceleration rate reductions can deliver \\n\\nsome small fuel savings, but avoiding accelerations and decelerations (accel/decel) altogether \\n\\nsaves larger amounts of fuel. This suggests that driving style improvements should focus on \\n\\nreducing the number of stops in high KI cycles, and not just the rate of accelerating out of a stop. \\n\\nTable 2-1. Simulated fuel savings from isolated cycle improvements \\n\\nCycle \\nName \\n\\nKI \\n(1/km) \\n\\nDistance \\n(mi) \\n\\nPercent Fuel Savings \\n\\nImproved \\nSpeed \\n\\nDecreased \\nAccel \\n\\nEliminate \\nStops \\n\\nDecreased \\nIdle \\n\\n2012_2 3.30 1.3 5.9% 9.5% 29.2% 17.4% \\n\\n2145_1 0.68 11.2 2.4% 0.1% 9.5% 2.7% \\n\\n4234_1 0.59 58.7 8.5% 1.3% 8.5% 3.3% \\n\\n2032_2 0.17 57.8 21.7% 0.3% 2.7% 1.2% \\n\\n4171_1 0.07 173.9 58.1% 1.6% 2.1% 0.5% \\n\\n \\n\\nFigure 2-1 extends the analysis from eliminating stops for the five example cycles and examines \\n\\nthe additional benefit from avoiding slow-and-go driving below various speed thresholds. \\n\\n\\n'"
      ]
     },
     "execution_count": 44,
     "metadata": {},
     "output_type": "execute_result"
    }
   ],
   "source": [
    "pdf_lido = parser.from_file(\"./data/foo.pdf\")\n",
    "\n",
    "pdf_lido['content']"
   ]
  },
  {
   "cell_type": "markdown",
   "id": "0539a90c",
   "metadata": {},
   "source": [
    "## Cereja do bolo, só pra galera da Jornada!!!\n",
    "\n",
    "A gente sempre tem algo especial e útil pra vocês. Conheçam o incrível.... Camelot!!\n",
    "\n",
    "(precisamos também do opencv e do ghostscript)"
   ]
  },
  {
   "cell_type": "code",
   "execution_count": null,
   "id": "ebcfac62",
   "metadata": {
    "scrolled": true
   },
   "outputs": [],
   "source": [
    "# !pip install camelot-py opencv-python ghostscript"
   ]
  },
  {
   "cell_type": "code",
   "execution_count": 45,
   "id": "8cdc8aca",
   "metadata": {},
   "outputs": [],
   "source": [
    "import camelot\n",
    "\n",
    "tabelas = camelot.read_pdf('./data/foo.pdf')"
   ]
  },
  {
   "cell_type": "code",
   "execution_count": 46,
   "id": "9928736b",
   "metadata": {},
   "outputs": [
    {
     "data": {
      "text/plain": [
       "<TableList n=1>"
      ]
     },
     "execution_count": 46,
     "metadata": {},
     "output_type": "execute_result"
    }
   ],
   "source": [
    "tabelas"
   ]
  },
  {
   "cell_type": "code",
   "execution_count": 49,
   "id": "1628af02",
   "metadata": {},
   "outputs": [
    {
     "data": {
      "text/plain": [
       "<Table shape=(7, 7)>"
      ]
     },
     "execution_count": 49,
     "metadata": {},
     "output_type": "execute_result"
    }
   ],
   "source": [
    "tabelas[0]"
   ]
  },
  {
   "cell_type": "code",
   "execution_count": 50,
   "id": "034d34bc",
   "metadata": {},
   "outputs": [
    {
     "data": {
      "text/html": [
       "<div>\n",
       "<style scoped>\n",
       "    .dataframe tbody tr th:only-of-type {\n",
       "        vertical-align: middle;\n",
       "    }\n",
       "\n",
       "    .dataframe tbody tr th {\n",
       "        vertical-align: top;\n",
       "    }\n",
       "\n",
       "    .dataframe thead th {\n",
       "        text-align: right;\n",
       "    }\n",
       "</style>\n",
       "<table border=\"1\" class=\"dataframe\">\n",
       "  <thead>\n",
       "    <tr style=\"text-align: right;\">\n",
       "      <th></th>\n",
       "      <th>0</th>\n",
       "      <th>1</th>\n",
       "      <th>2</th>\n",
       "      <th>3</th>\n",
       "      <th>4</th>\n",
       "      <th>5</th>\n",
       "      <th>6</th>\n",
       "    </tr>\n",
       "  </thead>\n",
       "  <tbody>\n",
       "    <tr>\n",
       "      <th>0</th>\n",
       "      <td>Cycle \\nName</td>\n",
       "      <td>KI \\n(1/km)</td>\n",
       "      <td>Distance \\n(mi)</td>\n",
       "      <td>Percent Fuel Savings</td>\n",
       "      <td></td>\n",
       "      <td></td>\n",
       "      <td></td>\n",
       "    </tr>\n",
       "    <tr>\n",
       "      <th>1</th>\n",
       "      <td></td>\n",
       "      <td></td>\n",
       "      <td></td>\n",
       "      <td>Improved \\nSpeed</td>\n",
       "      <td>Decreased \\nAccel</td>\n",
       "      <td>Eliminate \\nStops</td>\n",
       "      <td>Decreased \\nIdle</td>\n",
       "    </tr>\n",
       "    <tr>\n",
       "      <th>2</th>\n",
       "      <td>2012_2</td>\n",
       "      <td>3.30</td>\n",
       "      <td>1.3</td>\n",
       "      <td>5.9%</td>\n",
       "      <td>9.5%</td>\n",
       "      <td>29.2%</td>\n",
       "      <td>17.4%</td>\n",
       "    </tr>\n",
       "    <tr>\n",
       "      <th>3</th>\n",
       "      <td>2145_1</td>\n",
       "      <td>0.68</td>\n",
       "      <td>11.2</td>\n",
       "      <td>2.4%</td>\n",
       "      <td>0.1%</td>\n",
       "      <td>9.5%</td>\n",
       "      <td>2.7%</td>\n",
       "    </tr>\n",
       "    <tr>\n",
       "      <th>4</th>\n",
       "      <td>4234_1</td>\n",
       "      <td>0.59</td>\n",
       "      <td>58.7</td>\n",
       "      <td>8.5%</td>\n",
       "      <td>1.3%</td>\n",
       "      <td>8.5%</td>\n",
       "      <td>3.3%</td>\n",
       "    </tr>\n",
       "    <tr>\n",
       "      <th>5</th>\n",
       "      <td>2032_2</td>\n",
       "      <td>0.17</td>\n",
       "      <td>57.8</td>\n",
       "      <td>21.7%</td>\n",
       "      <td>0.3%</td>\n",
       "      <td>2.7%</td>\n",
       "      <td>1.2%</td>\n",
       "    </tr>\n",
       "    <tr>\n",
       "      <th>6</th>\n",
       "      <td>4171_1</td>\n",
       "      <td>0.07</td>\n",
       "      <td>173.9</td>\n",
       "      <td>58.1%</td>\n",
       "      <td>1.6%</td>\n",
       "      <td>2.1%</td>\n",
       "      <td>0.5%</td>\n",
       "    </tr>\n",
       "  </tbody>\n",
       "</table>\n",
       "</div>"
      ],
      "text/plain": [
       "              0            1                2                     3  \\\n",
       "0  Cycle \\nName  KI \\n(1/km)  Distance \\n(mi)  Percent Fuel Savings   \n",
       "1                                                  Improved \\nSpeed   \n",
       "2        2012_2         3.30              1.3                  5.9%   \n",
       "3        2145_1         0.68             11.2                  2.4%   \n",
       "4        4234_1         0.59             58.7                  8.5%   \n",
       "5        2032_2         0.17             57.8                 21.7%   \n",
       "6        4171_1         0.07            173.9                 58.1%   \n",
       "\n",
       "                   4                  5                 6  \n",
       "0                                                          \n",
       "1  Decreased \\nAccel  Eliminate \\nStops  Decreased \\nIdle  \n",
       "2               9.5%              29.2%             17.4%  \n",
       "3               0.1%               9.5%              2.7%  \n",
       "4               1.3%               8.5%              3.3%  \n",
       "5               0.3%               2.7%              1.2%  \n",
       "6               1.6%               2.1%              0.5%  "
      ]
     },
     "execution_count": 50,
     "metadata": {},
     "output_type": "execute_result"
    }
   ],
   "source": [
    "# Transformar em dataframe pandas\n",
    "df_tabela = tabelas[0].df\n",
    "\n",
    "df_tabela"
   ]
  },
  {
   "cell_type": "code",
   "execution_count": null,
   "id": "70745f48",
   "metadata": {},
   "outputs": [],
   "source": []
  }
 ],
 "metadata": {
  "kernelspec": {
   "display_name": "Python 3 (ipykernel)",
   "language": "python",
   "name": "python3"
  },
  "language_info": {
   "codemirror_mode": {
    "name": "ipython",
    "version": 3
   },
   "file_extension": ".py",
   "mimetype": "text/x-python",
   "name": "python",
   "nbconvert_exporter": "python",
   "pygments_lexer": "ipython3",
   "version": "3.9.13"
  }
 },
 "nbformat": 4,
 "nbformat_minor": 5
}
